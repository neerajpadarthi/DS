{
 "cells": [
  {
   "cell_type": "code",
   "execution_count": 16,
   "metadata": {},
   "outputs": [],
   "source": [
    "import pandas as pd\n",
    "import numpy as np\n",
    "import matplotlib.pyplot as plt\n",
    "from matplotlib.pylab import rcParams\n",
    "rcParams['figure.figsize'] =15,9\n",
    "from statsmodels.tsa.stattools import adfuller\n",
    "from statsmodels.tsa.seasonal import seasonal_decompose\n",
    "from statsmodels.tsa.arima_model import ARIMA\n",
    "import statsmodels.api as sm\n",
    "from sklearn.metrics import mean_squared_error"
   ]
  },
  {
   "cell_type": "code",
   "execution_count": 9,
   "metadata": {},
   "outputs": [],
   "source": [
    "df = pd.read_csv('On-street_Car_Parking_Sensor_Data_-_2017.csv')"
   ]
  },
  {
   "cell_type": "code",
   "execution_count": 7,
   "metadata": {},
   "outputs": [
    {
     "name": "stdout",
     "output_type": "stream",
     "text": [
      "Requirement already up-to-date: numpy in /Users/neerajpadarthi/anaconda3/lib/python3.6/site-packages (1.16.2)\r\n"
     ]
    }
   ],
   "source": [
    "!pip install --upgrade numpy"
   ]
  },
  {
   "cell_type": "code",
   "execution_count": 10,
   "metadata": {},
   "outputs": [
    {
     "data": {
      "text/html": [
       "<div>\n",
       "<style scoped>\n",
       "    .dataframe tbody tr th:only-of-type {\n",
       "        vertical-align: middle;\n",
       "    }\n",
       "\n",
       "    .dataframe tbody tr th {\n",
       "        vertical-align: top;\n",
       "    }\n",
       "\n",
       "    .dataframe thead th {\n",
       "        text-align: right;\n",
       "    }\n",
       "</style>\n",
       "<table border=\"1\" class=\"dataframe\">\n",
       "  <thead>\n",
       "    <tr style=\"text-align: right;\">\n",
       "      <th></th>\n",
       "      <th>DeviceId</th>\n",
       "      <th>ArrivalTime</th>\n",
       "      <th>DepartureTime</th>\n",
       "      <th>DurationSeconds</th>\n",
       "      <th>StreetMarker</th>\n",
       "      <th>Sign</th>\n",
       "      <th>Area</th>\n",
       "      <th>StreetId</th>\n",
       "      <th>StreetName</th>\n",
       "      <th>BetweenStreet1</th>\n",
       "      <th>BetweenStreet2</th>\n",
       "      <th>Side Of Street</th>\n",
       "      <th>In Violation</th>\n",
       "    </tr>\n",
       "  </thead>\n",
       "  <tbody>\n",
       "    <tr>\n",
       "      <th>0</th>\n",
       "      <td>18052</td>\n",
       "      <td>12/31/2017 11:58:28 PM</td>\n",
       "      <td>01/01/2018 12:00:00 AM</td>\n",
       "      <td>92</td>\n",
       "      <td>C1020</td>\n",
       "      <td>NaN</td>\n",
       "      <td>Banks</td>\n",
       "      <td>1171</td>\n",
       "      <td>QUEEN STREET</td>\n",
       "      <td>FLINDERS STREET</td>\n",
       "      <td>FLINDERS LANE</td>\n",
       "      <td>1</td>\n",
       "      <td>False</td>\n",
       "    </tr>\n",
       "    <tr>\n",
       "      <th>1</th>\n",
       "      <td>18053</td>\n",
       "      <td>12/31/2017 11:54:47 PM</td>\n",
       "      <td>01/01/2018 12:00:00 AM</td>\n",
       "      <td>313</td>\n",
       "      <td>C1024</td>\n",
       "      <td>NaN</td>\n",
       "      <td>Banks</td>\n",
       "      <td>1171</td>\n",
       "      <td>QUEEN STREET</td>\n",
       "      <td>FLINDERS STREET</td>\n",
       "      <td>FLINDERS LANE</td>\n",
       "      <td>1</td>\n",
       "      <td>False</td>\n",
       "    </tr>\n",
       "    <tr>\n",
       "      <th>2</th>\n",
       "      <td>18054</td>\n",
       "      <td>12/31/2017 11:51:41 PM</td>\n",
       "      <td>01/01/2018 12:00:00 AM</td>\n",
       "      <td>499</td>\n",
       "      <td>C1028</td>\n",
       "      <td>NaN</td>\n",
       "      <td>Banks</td>\n",
       "      <td>1171</td>\n",
       "      <td>QUEEN STREET</td>\n",
       "      <td>FLINDERS STREET</td>\n",
       "      <td>FLINDERS LANE</td>\n",
       "      <td>1</td>\n",
       "      <td>False</td>\n",
       "    </tr>\n",
       "    <tr>\n",
       "      <th>3</th>\n",
       "      <td>18050</td>\n",
       "      <td>12/31/2017 11:45:52 PM</td>\n",
       "      <td>01/01/2018 12:00:00 AM</td>\n",
       "      <td>848</td>\n",
       "      <td>C1012</td>\n",
       "      <td>NaN</td>\n",
       "      <td>Banks</td>\n",
       "      <td>1171</td>\n",
       "      <td>QUEEN STREET</td>\n",
       "      <td>FLINDERS STREET</td>\n",
       "      <td>FLINDERS LANE</td>\n",
       "      <td>1</td>\n",
       "      <td>False</td>\n",
       "    </tr>\n",
       "    <tr>\n",
       "      <th>4</th>\n",
       "      <td>18047</td>\n",
       "      <td>12/31/2017 11:15:37 PM</td>\n",
       "      <td>01/01/2018 12:00:00 AM</td>\n",
       "      <td>2663</td>\n",
       "      <td>C1000</td>\n",
       "      <td>NaN</td>\n",
       "      <td>Banks</td>\n",
       "      <td>1171</td>\n",
       "      <td>QUEEN STREET</td>\n",
       "      <td>FLINDERS STREET</td>\n",
       "      <td>FLINDERS LANE</td>\n",
       "      <td>1</td>\n",
       "      <td>False</td>\n",
       "    </tr>\n",
       "  </tbody>\n",
       "</table>\n",
       "</div>"
      ],
      "text/plain": [
       "   DeviceId             ArrivalTime           DepartureTime  DurationSeconds  \\\n",
       "0     18052  12/31/2017 11:58:28 PM  01/01/2018 12:00:00 AM               92   \n",
       "1     18053  12/31/2017 11:54:47 PM  01/01/2018 12:00:00 AM              313   \n",
       "2     18054  12/31/2017 11:51:41 PM  01/01/2018 12:00:00 AM              499   \n",
       "3     18050  12/31/2017 11:45:52 PM  01/01/2018 12:00:00 AM              848   \n",
       "4     18047  12/31/2017 11:15:37 PM  01/01/2018 12:00:00 AM             2663   \n",
       "\n",
       "  StreetMarker Sign   Area  StreetId    StreetName   BetweenStreet1  \\\n",
       "0        C1020  NaN  Banks      1171  QUEEN STREET  FLINDERS STREET   \n",
       "1        C1024  NaN  Banks      1171  QUEEN STREET  FLINDERS STREET   \n",
       "2        C1028  NaN  Banks      1171  QUEEN STREET  FLINDERS STREET   \n",
       "3        C1012  NaN  Banks      1171  QUEEN STREET  FLINDERS STREET   \n",
       "4        C1000  NaN  Banks      1171  QUEEN STREET  FLINDERS STREET   \n",
       "\n",
       "  BetweenStreet2  Side Of Street  In Violation  \n",
       "0  FLINDERS LANE               1         False  \n",
       "1  FLINDERS LANE               1         False  \n",
       "2  FLINDERS LANE               1         False  \n",
       "3  FLINDERS LANE               1         False  \n",
       "4  FLINDERS LANE               1         False  "
      ]
     },
     "execution_count": 10,
     "metadata": {},
     "output_type": "execute_result"
    }
   ],
   "source": [
    "df.head()"
   ]
  },
  {
   "cell_type": "code",
   "execution_count": 4,
   "metadata": {},
   "outputs": [
    {
     "data": {
      "text/plain": [
       "(783907, 13)"
      ]
     },
     "execution_count": 4,
     "metadata": {},
     "output_type": "execute_result"
    }
   ],
   "source": [
    "df.shape"
   ]
  },
  {
   "cell_type": "code",
   "execution_count": 5,
   "metadata": {},
   "outputs": [
    {
     "name": "stdout",
     "output_type": "stream",
     "text": [
      "<class 'pandas.core.frame.DataFrame'>\n",
      "RangeIndex: 783907 entries, 0 to 783906\n",
      "Data columns (total 13 columns):\n",
      "DeviceId           783907 non-null int64\n",
      "ArrivalTime        783907 non-null object\n",
      "DepartureTime      783907 non-null object\n",
      "DurationSeconds    783907 non-null int64\n",
      "StreetMarker       783907 non-null object\n",
      "Sign               474634 non-null object\n",
      "Area               783907 non-null object\n",
      "StreetId           783907 non-null int64\n",
      "StreetName         783907 non-null object\n",
      "BetweenStreet1     783907 non-null object\n",
      "BetweenStreet2     783907 non-null object\n",
      "Side Of Street     783907 non-null int64\n",
      "In Violation       783907 non-null bool\n",
      "dtypes: bool(1), int64(4), object(8)\n",
      "memory usage: 72.5+ MB\n"
     ]
    }
   ],
   "source": [
    "df.info()"
   ]
  },
  {
   "cell_type": "code",
   "execution_count": 11,
   "metadata": {},
   "outputs": [],
   "source": [
    "df['start_time'] = pd.to_datetime(df.ArrivalTime).astype('datetime64[s]')\n",
    "df['end_time'] = pd.to_datetime(df.DepartureTime).astype('datetime64[s]')"
   ]
  },
  {
   "cell_type": "code",
   "execution_count": 12,
   "metadata": {},
   "outputs": [],
   "source": [
    "df['end_time'] = df.end_time.dt.floor('1min')"
   ]
  },
  {
   "cell_type": "code",
   "execution_count": 13,
   "metadata": {},
   "outputs": [
    {
     "name": "stdout",
     "output_type": "stream",
     "text": [
      "<class 'pandas.core.frame.DataFrame'>\n",
      "RangeIndex: 783907 entries, 0 to 783906\n",
      "Data columns (total 15 columns):\n",
      "DeviceId           783907 non-null int64\n",
      "ArrivalTime        783907 non-null object\n",
      "DepartureTime      783907 non-null object\n",
      "DurationSeconds    783907 non-null int64\n",
      "StreetMarker       783907 non-null object\n",
      "Sign               474634 non-null object\n",
      "Area               783907 non-null object\n",
      "StreetId           783907 non-null int64\n",
      "StreetName         783907 non-null object\n",
      "BetweenStreet1     783907 non-null object\n",
      "BetweenStreet2     783907 non-null object\n",
      "Side Of Street     783907 non-null int64\n",
      "In Violation       783907 non-null bool\n",
      "start_time         783907 non-null datetime64[ns]\n",
      "end_time           783907 non-null datetime64[ns]\n",
      "dtypes: bool(1), datetime64[ns](2), int64(4), object(8)\n",
      "memory usage: 84.5+ MB\n"
     ]
    }
   ],
   "source": [
    "df.info()"
   ]
  },
  {
   "cell_type": "code",
   "execution_count": 9,
   "metadata": {},
   "outputs": [
    {
     "data": {
      "text/html": [
       "<div>\n",
       "<style scoped>\n",
       "    .dataframe tbody tr th:only-of-type {\n",
       "        vertical-align: middle;\n",
       "    }\n",
       "\n",
       "    .dataframe tbody tr th {\n",
       "        vertical-align: top;\n",
       "    }\n",
       "\n",
       "    .dataframe thead th {\n",
       "        text-align: right;\n",
       "    }\n",
       "</style>\n",
       "<table border=\"1\" class=\"dataframe\">\n",
       "  <thead>\n",
       "    <tr style=\"text-align: right;\">\n",
       "      <th></th>\n",
       "      <th>DeviceId</th>\n",
       "      <th>ArrivalTime</th>\n",
       "      <th>DepartureTime</th>\n",
       "      <th>DurationSeconds</th>\n",
       "      <th>StreetMarker</th>\n",
       "      <th>Sign</th>\n",
       "      <th>Area</th>\n",
       "      <th>StreetId</th>\n",
       "      <th>StreetName</th>\n",
       "      <th>BetweenStreet1</th>\n",
       "      <th>BetweenStreet2</th>\n",
       "      <th>Side Of Street</th>\n",
       "      <th>In Violation</th>\n",
       "      <th>start_time</th>\n",
       "      <th>end_time</th>\n",
       "    </tr>\n",
       "  </thead>\n",
       "  <tbody>\n",
       "    <tr>\n",
       "      <th>0</th>\n",
       "      <td>18052</td>\n",
       "      <td>12/31/2017 11:58:28 PM</td>\n",
       "      <td>01/01/2018 12:00:00 AM</td>\n",
       "      <td>92</td>\n",
       "      <td>C1020</td>\n",
       "      <td>NaN</td>\n",
       "      <td>Banks</td>\n",
       "      <td>1171</td>\n",
       "      <td>QUEEN STREET</td>\n",
       "      <td>FLINDERS STREET</td>\n",
       "      <td>FLINDERS LANE</td>\n",
       "      <td>1</td>\n",
       "      <td>False</td>\n",
       "      <td>2017-12-31 23:58:28</td>\n",
       "      <td>2018-01-01</td>\n",
       "    </tr>\n",
       "    <tr>\n",
       "      <th>1</th>\n",
       "      <td>18053</td>\n",
       "      <td>12/31/2017 11:54:47 PM</td>\n",
       "      <td>01/01/2018 12:00:00 AM</td>\n",
       "      <td>313</td>\n",
       "      <td>C1024</td>\n",
       "      <td>NaN</td>\n",
       "      <td>Banks</td>\n",
       "      <td>1171</td>\n",
       "      <td>QUEEN STREET</td>\n",
       "      <td>FLINDERS STREET</td>\n",
       "      <td>FLINDERS LANE</td>\n",
       "      <td>1</td>\n",
       "      <td>False</td>\n",
       "      <td>2017-12-31 23:54:47</td>\n",
       "      <td>2018-01-01</td>\n",
       "    </tr>\n",
       "    <tr>\n",
       "      <th>2</th>\n",
       "      <td>18054</td>\n",
       "      <td>12/31/2017 11:51:41 PM</td>\n",
       "      <td>01/01/2018 12:00:00 AM</td>\n",
       "      <td>499</td>\n",
       "      <td>C1028</td>\n",
       "      <td>NaN</td>\n",
       "      <td>Banks</td>\n",
       "      <td>1171</td>\n",
       "      <td>QUEEN STREET</td>\n",
       "      <td>FLINDERS STREET</td>\n",
       "      <td>FLINDERS LANE</td>\n",
       "      <td>1</td>\n",
       "      <td>False</td>\n",
       "      <td>2017-12-31 23:51:41</td>\n",
       "      <td>2018-01-01</td>\n",
       "    </tr>\n",
       "    <tr>\n",
       "      <th>3</th>\n",
       "      <td>18050</td>\n",
       "      <td>12/31/2017 11:45:52 PM</td>\n",
       "      <td>01/01/2018 12:00:00 AM</td>\n",
       "      <td>848</td>\n",
       "      <td>C1012</td>\n",
       "      <td>NaN</td>\n",
       "      <td>Banks</td>\n",
       "      <td>1171</td>\n",
       "      <td>QUEEN STREET</td>\n",
       "      <td>FLINDERS STREET</td>\n",
       "      <td>FLINDERS LANE</td>\n",
       "      <td>1</td>\n",
       "      <td>False</td>\n",
       "      <td>2017-12-31 23:45:52</td>\n",
       "      <td>2018-01-01</td>\n",
       "    </tr>\n",
       "    <tr>\n",
       "      <th>4</th>\n",
       "      <td>18047</td>\n",
       "      <td>12/31/2017 11:15:37 PM</td>\n",
       "      <td>01/01/2018 12:00:00 AM</td>\n",
       "      <td>2663</td>\n",
       "      <td>C1000</td>\n",
       "      <td>NaN</td>\n",
       "      <td>Banks</td>\n",
       "      <td>1171</td>\n",
       "      <td>QUEEN STREET</td>\n",
       "      <td>FLINDERS STREET</td>\n",
       "      <td>FLINDERS LANE</td>\n",
       "      <td>1</td>\n",
       "      <td>False</td>\n",
       "      <td>2017-12-31 23:15:37</td>\n",
       "      <td>2018-01-01</td>\n",
       "    </tr>\n",
       "  </tbody>\n",
       "</table>\n",
       "</div>"
      ],
      "text/plain": [
       "   DeviceId             ArrivalTime           DepartureTime  DurationSeconds  \\\n",
       "0     18052  12/31/2017 11:58:28 PM  01/01/2018 12:00:00 AM               92   \n",
       "1     18053  12/31/2017 11:54:47 PM  01/01/2018 12:00:00 AM              313   \n",
       "2     18054  12/31/2017 11:51:41 PM  01/01/2018 12:00:00 AM              499   \n",
       "3     18050  12/31/2017 11:45:52 PM  01/01/2018 12:00:00 AM              848   \n",
       "4     18047  12/31/2017 11:15:37 PM  01/01/2018 12:00:00 AM             2663   \n",
       "\n",
       "  StreetMarker Sign   Area  StreetId    StreetName   BetweenStreet1  \\\n",
       "0        C1020  NaN  Banks      1171  QUEEN STREET  FLINDERS STREET   \n",
       "1        C1024  NaN  Banks      1171  QUEEN STREET  FLINDERS STREET   \n",
       "2        C1028  NaN  Banks      1171  QUEEN STREET  FLINDERS STREET   \n",
       "3        C1012  NaN  Banks      1171  QUEEN STREET  FLINDERS STREET   \n",
       "4        C1000  NaN  Banks      1171  QUEEN STREET  FLINDERS STREET   \n",
       "\n",
       "  BetweenStreet2  Side Of Street  In Violation          start_time   end_time  \n",
       "0  FLINDERS LANE               1         False 2017-12-31 23:58:28 2018-01-01  \n",
       "1  FLINDERS LANE               1         False 2017-12-31 23:54:47 2018-01-01  \n",
       "2  FLINDERS LANE               1         False 2017-12-31 23:51:41 2018-01-01  \n",
       "3  FLINDERS LANE               1         False 2017-12-31 23:45:52 2018-01-01  \n",
       "4  FLINDERS LANE               1         False 2017-12-31 23:15:37 2018-01-01  "
      ]
     },
     "execution_count": 9,
     "metadata": {},
     "output_type": "execute_result"
    }
   ],
   "source": [
    "df.head()"
   ]
  },
  {
   "cell_type": "code",
   "execution_count": 14,
   "metadata": {},
   "outputs": [],
   "source": [
    "df = df.loc[(df['Area']=='Banks')]"
   ]
  },
  {
   "cell_type": "code",
   "execution_count": 15,
   "metadata": {},
   "outputs": [
    {
     "name": "stdout",
     "output_type": "stream",
     "text": [
      "<class 'pandas.core.frame.DataFrame'>\n",
      "Int64Index: 783907 entries, 0 to 783906\n",
      "Data columns (total 15 columns):\n",
      "DeviceId           783907 non-null int64\n",
      "ArrivalTime        783907 non-null object\n",
      "DepartureTime      783907 non-null object\n",
      "DurationSeconds    783907 non-null int64\n",
      "StreetMarker       783907 non-null object\n",
      "Sign               474634 non-null object\n",
      "Area               783907 non-null object\n",
      "StreetId           783907 non-null int64\n",
      "StreetName         783907 non-null object\n",
      "BetweenStreet1     783907 non-null object\n",
      "BetweenStreet2     783907 non-null object\n",
      "Side Of Street     783907 non-null int64\n",
      "In Violation       783907 non-null bool\n",
      "start_time         783907 non-null datetime64[ns]\n",
      "end_time           783907 non-null datetime64[ns]\n",
      "dtypes: bool(1), datetime64[ns](2), int64(4), object(8)\n",
      "memory usage: 90.5+ MB\n"
     ]
    }
   ],
   "source": [
    "df.info()"
   ]
  },
  {
   "cell_type": "code",
   "execution_count": 13,
   "metadata": {},
   "outputs": [],
   "source": [
    "df.drop(columns={'StreetMarker','Sign','StreetId','StreetName'\\\n",
    "                 ,'BetweenStreet1','BetweenStreet2','Side Of Street'\\\n",
    "                ,'In Violation','ArrivalTime','DepartureTime','Area'},inplace=True)"
   ]
  },
  {
   "cell_type": "code",
   "execution_count": null,
   "metadata": {},
   "outputs": [],
   "source": []
  },
  {
   "cell_type": "code",
   "execution_count": 17,
   "metadata": {},
   "outputs": [
    {
     "data": {
      "text/html": [
       "<div>\n",
       "<style scoped>\n",
       "    .dataframe tbody tr th:only-of-type {\n",
       "        vertical-align: middle;\n",
       "    }\n",
       "\n",
       "    .dataframe tbody tr th {\n",
       "        vertical-align: top;\n",
       "    }\n",
       "\n",
       "    .dataframe thead th {\n",
       "        text-align: right;\n",
       "    }\n",
       "</style>\n",
       "<table border=\"1\" class=\"dataframe\">\n",
       "  <thead>\n",
       "    <tr style=\"text-align: right;\">\n",
       "      <th></th>\n",
       "      <th>DeviceId</th>\n",
       "      <th>DurationSeconds</th>\n",
       "      <th>start_time</th>\n",
       "      <th>end_time</th>\n",
       "    </tr>\n",
       "  </thead>\n",
       "  <tbody>\n",
       "    <tr>\n",
       "      <th>0</th>\n",
       "      <td>18052</td>\n",
       "      <td>92</td>\n",
       "      <td>2017-12-31 23:58:28</td>\n",
       "      <td>2018-01-01</td>\n",
       "    </tr>\n",
       "    <tr>\n",
       "      <th>1</th>\n",
       "      <td>18053</td>\n",
       "      <td>313</td>\n",
       "      <td>2017-12-31 23:54:47</td>\n",
       "      <td>2018-01-01</td>\n",
       "    </tr>\n",
       "    <tr>\n",
       "      <th>2</th>\n",
       "      <td>18054</td>\n",
       "      <td>499</td>\n",
       "      <td>2017-12-31 23:51:41</td>\n",
       "      <td>2018-01-01</td>\n",
       "    </tr>\n",
       "    <tr>\n",
       "      <th>3</th>\n",
       "      <td>18050</td>\n",
       "      <td>848</td>\n",
       "      <td>2017-12-31 23:45:52</td>\n",
       "      <td>2018-01-01</td>\n",
       "    </tr>\n",
       "    <tr>\n",
       "      <th>4</th>\n",
       "      <td>18047</td>\n",
       "      <td>2663</td>\n",
       "      <td>2017-12-31 23:15:37</td>\n",
       "      <td>2018-01-01</td>\n",
       "    </tr>\n",
       "  </tbody>\n",
       "</table>\n",
       "</div>"
      ],
      "text/plain": [
       "   DeviceId  DurationSeconds          start_time   end_time\n",
       "0     18052               92 2017-12-31 23:58:28 2018-01-01\n",
       "1     18053              313 2017-12-31 23:54:47 2018-01-01\n",
       "2     18054              499 2017-12-31 23:51:41 2018-01-01\n",
       "3     18050              848 2017-12-31 23:45:52 2018-01-01\n",
       "4     18047             2663 2017-12-31 23:15:37 2018-01-01"
      ]
     },
     "execution_count": 17,
     "metadata": {},
     "output_type": "execute_result"
    }
   ],
   "source": [
    "df.head()"
   ]
  },
  {
   "cell_type": "code",
   "execution_count": 14,
   "metadata": {},
   "outputs": [],
   "source": [
    "df['duration_seconds'] = df['DurationSeconds']\n",
    "df.drop(columns={'duration_seconds'},inplace=True)"
   ]
  },
  {
   "cell_type": "code",
   "execution_count": 15,
   "metadata": {},
   "outputs": [
    {
     "data": {
      "text/html": [
       "<div>\n",
       "<style scoped>\n",
       "    .dataframe tbody tr th:only-of-type {\n",
       "        vertical-align: middle;\n",
       "    }\n",
       "\n",
       "    .dataframe tbody tr th {\n",
       "        vertical-align: top;\n",
       "    }\n",
       "\n",
       "    .dataframe thead th {\n",
       "        text-align: right;\n",
       "    }\n",
       "</style>\n",
       "<table border=\"1\" class=\"dataframe\">\n",
       "  <thead>\n",
       "    <tr style=\"text-align: right;\">\n",
       "      <th></th>\n",
       "      <th>DeviceId</th>\n",
       "      <th>DurationSeconds</th>\n",
       "      <th>start_time</th>\n",
       "      <th>end_time</th>\n",
       "    </tr>\n",
       "  </thead>\n",
       "  <tbody>\n",
       "    <tr>\n",
       "      <th>8</th>\n",
       "      <td>18061</td>\n",
       "      <td>-3723745395</td>\n",
       "      <td>2017-12-31 21:43:15</td>\n",
       "      <td>1900-01-01</td>\n",
       "    </tr>\n",
       "    <tr>\n",
       "      <th>26</th>\n",
       "      <td>18055</td>\n",
       "      <td>-3723733800</td>\n",
       "      <td>2017-12-31 18:30:00</td>\n",
       "      <td>1900-01-01</td>\n",
       "    </tr>\n",
       "    <tr>\n",
       "      <th>2281</th>\n",
       "      <td>18055</td>\n",
       "      <td>-3723494020</td>\n",
       "      <td>2017-12-28 23:53:40</td>\n",
       "      <td>1900-01-01</td>\n",
       "    </tr>\n",
       "    <tr>\n",
       "      <th>2986</th>\n",
       "      <td>18041</td>\n",
       "      <td>-3723443329</td>\n",
       "      <td>2017-12-28 09:48:49</td>\n",
       "      <td>1900-01-01</td>\n",
       "    </tr>\n",
       "    <tr>\n",
       "      <th>3532</th>\n",
       "      <td>18049</td>\n",
       "      <td>-3723370658</td>\n",
       "      <td>2017-12-27 13:37:38</td>\n",
       "      <td>1900-01-01</td>\n",
       "    </tr>\n",
       "  </tbody>\n",
       "</table>\n",
       "</div>"
      ],
      "text/plain": [
       "      DeviceId  DurationSeconds          start_time   end_time\n",
       "8        18061      -3723745395 2017-12-31 21:43:15 1900-01-01\n",
       "26       18055      -3723733800 2017-12-31 18:30:00 1900-01-01\n",
       "2281     18055      -3723494020 2017-12-28 23:53:40 1900-01-01\n",
       "2986     18041      -3723443329 2017-12-28 09:48:49 1900-01-01\n",
       "3532     18049      -3723370658 2017-12-27 13:37:38 1900-01-01"
      ]
     },
     "execution_count": 15,
     "metadata": {},
     "output_type": "execute_result"
    }
   ],
   "source": [
    "df.head()"
   ]
  },
  {
   "cell_type": "code",
   "execution_count": null,
   "metadata": {},
   "outputs": [],
   "source": []
  },
  {
   "cell_type": "code",
   "execution_count": 19,
   "metadata": {},
   "outputs": [
    {
     "data": {
      "text/html": [
       "<div>\n",
       "<style scoped>\n",
       "    .dataframe tbody tr th:only-of-type {\n",
       "        vertical-align: middle;\n",
       "    }\n",
       "\n",
       "    .dataframe tbody tr th {\n",
       "        vertical-align: top;\n",
       "    }\n",
       "\n",
       "    .dataframe thead th {\n",
       "        text-align: right;\n",
       "    }\n",
       "</style>\n",
       "<table border=\"1\" class=\"dataframe\">\n",
       "  <thead>\n",
       "    <tr style=\"text-align: right;\">\n",
       "      <th></th>\n",
       "      <th>DeviceId</th>\n",
       "      <th>DurationSeconds</th>\n",
       "      <th>start_time</th>\n",
       "      <th>end_time</th>\n",
       "    </tr>\n",
       "  </thead>\n",
       "  <tbody>\n",
       "    <tr>\n",
       "      <th>0</th>\n",
       "      <td>18052</td>\n",
       "      <td>92</td>\n",
       "      <td>2017-12-31 23:58:28</td>\n",
       "      <td>2018-01-01</td>\n",
       "    </tr>\n",
       "    <tr>\n",
       "      <th>1</th>\n",
       "      <td>18053</td>\n",
       "      <td>313</td>\n",
       "      <td>2017-12-31 23:54:47</td>\n",
       "      <td>2018-01-01</td>\n",
       "    </tr>\n",
       "    <tr>\n",
       "      <th>2</th>\n",
       "      <td>18054</td>\n",
       "      <td>499</td>\n",
       "      <td>2017-12-31 23:51:41</td>\n",
       "      <td>2018-01-01</td>\n",
       "    </tr>\n",
       "    <tr>\n",
       "      <th>3</th>\n",
       "      <td>18050</td>\n",
       "      <td>848</td>\n",
       "      <td>2017-12-31 23:45:52</td>\n",
       "      <td>2018-01-01</td>\n",
       "    </tr>\n",
       "    <tr>\n",
       "      <th>4</th>\n",
       "      <td>18047</td>\n",
       "      <td>2663</td>\n",
       "      <td>2017-12-31 23:15:37</td>\n",
       "      <td>2018-01-01</td>\n",
       "    </tr>\n",
       "  </tbody>\n",
       "</table>\n",
       "</div>"
      ],
      "text/plain": [
       "   DeviceId  DurationSeconds          start_time   end_time\n",
       "0     18052               92 2017-12-31 23:58:28 2018-01-01\n",
       "1     18053              313 2017-12-31 23:54:47 2018-01-01\n",
       "2     18054              499 2017-12-31 23:51:41 2018-01-01\n",
       "3     18050              848 2017-12-31 23:45:52 2018-01-01\n",
       "4     18047             2663 2017-12-31 23:15:37 2018-01-01"
      ]
     },
     "execution_count": 19,
     "metadata": {},
     "output_type": "execute_result"
    }
   ],
   "source": [
    "df.head()"
   ]
  },
  {
   "cell_type": "code",
   "execution_count": 15,
   "metadata": {},
   "outputs": [],
   "source": [
    "df['start_from_fc']= df.start_time.dt.floor('5min')\n",
    "df['end_from_fc'] = df.end_time.dt.ceil('5min')"
   ]
  },
  {
   "cell_type": "code",
   "execution_count": 18,
   "metadata": {},
   "outputs": [
    {
     "data": {
      "text/html": [
       "<div>\n",
       "<style scoped>\n",
       "    .dataframe tbody tr th:only-of-type {\n",
       "        vertical-align: middle;\n",
       "    }\n",
       "\n",
       "    .dataframe tbody tr th {\n",
       "        vertical-align: top;\n",
       "    }\n",
       "\n",
       "    .dataframe thead th {\n",
       "        text-align: right;\n",
       "    }\n",
       "</style>\n",
       "<table border=\"1\" class=\"dataframe\">\n",
       "  <thead>\n",
       "    <tr style=\"text-align: right;\">\n",
       "      <th></th>\n",
       "      <th>DeviceId</th>\n",
       "      <th>DurationSeconds</th>\n",
       "      <th>start_time</th>\n",
       "      <th>end_time</th>\n",
       "      <th>start_from_fc</th>\n",
       "      <th>end_from_fc</th>\n",
       "    </tr>\n",
       "  </thead>\n",
       "  <tbody>\n",
       "    <tr>\n",
       "      <th>8</th>\n",
       "      <td>18061</td>\n",
       "      <td>-3723745395</td>\n",
       "      <td>2017-12-31 21:43:15</td>\n",
       "      <td>1900-01-01</td>\n",
       "      <td>2017-12-31 21:40:00</td>\n",
       "      <td>1900-01-01</td>\n",
       "    </tr>\n",
       "    <tr>\n",
       "      <th>26</th>\n",
       "      <td>18055</td>\n",
       "      <td>-3723733800</td>\n",
       "      <td>2017-12-31 18:30:00</td>\n",
       "      <td>1900-01-01</td>\n",
       "      <td>2017-12-31 18:30:00</td>\n",
       "      <td>1900-01-01</td>\n",
       "    </tr>\n",
       "    <tr>\n",
       "      <th>2281</th>\n",
       "      <td>18055</td>\n",
       "      <td>-3723494020</td>\n",
       "      <td>2017-12-28 23:53:40</td>\n",
       "      <td>1900-01-01</td>\n",
       "      <td>2017-12-28 23:50:00</td>\n",
       "      <td>1900-01-01</td>\n",
       "    </tr>\n",
       "    <tr>\n",
       "      <th>2986</th>\n",
       "      <td>18041</td>\n",
       "      <td>-3723443329</td>\n",
       "      <td>2017-12-28 09:48:49</td>\n",
       "      <td>1900-01-01</td>\n",
       "      <td>2017-12-28 09:45:00</td>\n",
       "      <td>1900-01-01</td>\n",
       "    </tr>\n",
       "    <tr>\n",
       "      <th>3532</th>\n",
       "      <td>18049</td>\n",
       "      <td>-3723370658</td>\n",
       "      <td>2017-12-27 13:37:38</td>\n",
       "      <td>1900-01-01</td>\n",
       "      <td>2017-12-27 13:35:00</td>\n",
       "      <td>1900-01-01</td>\n",
       "    </tr>\n",
       "  </tbody>\n",
       "</table>\n",
       "</div>"
      ],
      "text/plain": [
       "      DeviceId  DurationSeconds          start_time   end_time  \\\n",
       "8        18061      -3723745395 2017-12-31 21:43:15 1900-01-01   \n",
       "26       18055      -3723733800 2017-12-31 18:30:00 1900-01-01   \n",
       "2281     18055      -3723494020 2017-12-28 23:53:40 1900-01-01   \n",
       "2986     18041      -3723443329 2017-12-28 09:48:49 1900-01-01   \n",
       "3532     18049      -3723370658 2017-12-27 13:37:38 1900-01-01   \n",
       "\n",
       "           start_from_fc end_from_fc  \n",
       "8    2017-12-31 21:40:00  1900-01-01  \n",
       "26   2017-12-31 18:30:00  1900-01-01  \n",
       "2281 2017-12-28 23:50:00  1900-01-01  \n",
       "2986 2017-12-28 09:45:00  1900-01-01  \n",
       "3532 2017-12-27 13:35:00  1900-01-01  "
      ]
     },
     "execution_count": 18,
     "metadata": {},
     "output_type": "execute_result"
    }
   ],
   "source": [
    "df.head()"
   ]
  },
  {
   "cell_type": "code",
   "execution_count": 21,
   "metadata": {},
   "outputs": [
    {
     "data": {
      "text/plain": [
       "DeviceId                    int64\n",
       "DurationSeconds             int64\n",
       "start_time         datetime64[ns]\n",
       "end_time           datetime64[ns]\n",
       "start_from_fc      datetime64[ns]\n",
       "end_from_fc        datetime64[ns]\n",
       "dtype: object"
      ]
     },
     "execution_count": 21,
     "metadata": {},
     "output_type": "execute_result"
    }
   ],
   "source": [
    "df.dtypes"
   ]
  },
  {
   "cell_type": "code",
   "execution_count": 16,
   "metadata": {},
   "outputs": [],
   "source": [
    "n = (df.end_from_fc - df.start_from_fc)\n",
    "# n,(n.dt.total_seconds())/60\n",
    "df['diff'] = (n.dt.total_seconds())/60"
   ]
  },
  {
   "cell_type": "code",
   "execution_count": null,
   "metadata": {},
   "outputs": [
    {
     "data": {
      "text/html": [
       "<div>\n",
       "<style scoped>\n",
       "    .dataframe tbody tr th:only-of-type {\n",
       "        vertical-align: middle;\n",
       "    }\n",
       "\n",
       "    .dataframe tbody tr th {\n",
       "        vertical-align: top;\n",
       "    }\n",
       "\n",
       "    .dataframe thead th {\n",
       "        text-align: right;\n",
       "    }\n",
       "</style>\n",
       "<table border=\"1\" class=\"dataframe\">\n",
       "  <thead>\n",
       "    <tr style=\"text-align: right;\">\n",
       "      <th></th>\n",
       "      <th>DeviceId</th>\n",
       "      <th>DurationSeconds</th>\n",
       "      <th>start_time</th>\n",
       "      <th>end_time</th>\n",
       "      <th>start_from_fc</th>\n",
       "      <th>end_from_fc</th>\n",
       "      <th>diff</th>\n",
       "    </tr>\n",
       "  </thead>\n",
       "  <tbody>\n",
       "    <tr>\n",
       "      <th>8</th>\n",
       "      <td>18061</td>\n",
       "      <td>-3723745395</td>\n",
       "      <td>2017-12-31 21:43:15</td>\n",
       "      <td>1900-01-01</td>\n",
       "      <td>2017-12-31 21:40:00</td>\n",
       "      <td>1900-01-01</td>\n",
       "      <td>-62062420.0</td>\n",
       "    </tr>\n",
       "    <tr>\n",
       "      <th>26</th>\n",
       "      <td>18055</td>\n",
       "      <td>-3723733800</td>\n",
       "      <td>2017-12-31 18:30:00</td>\n",
       "      <td>1900-01-01</td>\n",
       "      <td>2017-12-31 18:30:00</td>\n",
       "      <td>1900-01-01</td>\n",
       "      <td>-62062230.0</td>\n",
       "    </tr>\n",
       "    <tr>\n",
       "      <th>2281</th>\n",
       "      <td>18055</td>\n",
       "      <td>-3723494020</td>\n",
       "      <td>2017-12-28 23:53:40</td>\n",
       "      <td>1900-01-01</td>\n",
       "      <td>2017-12-28 23:50:00</td>\n",
       "      <td>1900-01-01</td>\n",
       "      <td>-62058230.0</td>\n",
       "    </tr>\n",
       "    <tr>\n",
       "      <th>2986</th>\n",
       "      <td>18041</td>\n",
       "      <td>-3723443329</td>\n",
       "      <td>2017-12-28 09:48:49</td>\n",
       "      <td>1900-01-01</td>\n",
       "      <td>2017-12-28 09:45:00</td>\n",
       "      <td>1900-01-01</td>\n",
       "      <td>-62057385.0</td>\n",
       "    </tr>\n",
       "    <tr>\n",
       "      <th>3532</th>\n",
       "      <td>18049</td>\n",
       "      <td>-3723370658</td>\n",
       "      <td>2017-12-27 13:37:38</td>\n",
       "      <td>1900-01-01</td>\n",
       "      <td>2017-12-27 13:35:00</td>\n",
       "      <td>1900-01-01</td>\n",
       "      <td>-62056175.0</td>\n",
       "    </tr>\n",
       "  </tbody>\n",
       "</table>\n",
       "</div>"
      ],
      "text/plain": [
       "      DeviceId  DurationSeconds          start_time   end_time  \\\n",
       "8        18061      -3723745395 2017-12-31 21:43:15 1900-01-01   \n",
       "26       18055      -3723733800 2017-12-31 18:30:00 1900-01-01   \n",
       "2281     18055      -3723494020 2017-12-28 23:53:40 1900-01-01   \n",
       "2986     18041      -3723443329 2017-12-28 09:48:49 1900-01-01   \n",
       "3532     18049      -3723370658 2017-12-27 13:37:38 1900-01-01   \n",
       "\n",
       "           start_from_fc end_from_fc        diff  \n",
       "8    2017-12-31 21:40:00  1900-01-01 -62062420.0  \n",
       "26   2017-12-31 18:30:00  1900-01-01 -62062230.0  \n",
       "2281 2017-12-28 23:50:00  1900-01-01 -62058230.0  \n",
       "2986 2017-12-28 09:45:00  1900-01-01 -62057385.0  \n",
       "3532 2017-12-27 13:35:00  1900-01-01 -62056175.0  "
      ]
     },
     "execution_count": 21,
     "metadata": {},
     "output_type": "execute_result"
    }
   ],
   "source": [
    "df.head()"
   ]
  },
  {
   "cell_type": "code",
   "execution_count": 17,
   "metadata": {},
   "outputs": [],
   "source": [
    "df['slots'] = df['diff']/5\n",
    "df['slots']=df['slots'].astype('int64')\n",
    "df['bins'] = df.slots.map( lambda x: np.arange(1,x+1,1) if x > 1.0 else np.arange(1,x+1))"
   ]
  },
  {
   "cell_type": "code",
   "execution_count": 18,
   "metadata": {},
   "outputs": [],
   "source": [
    "df['start'] = df.start_time.dt.date\n",
    "df['start'] = pd.to_datetime(df.start,format='%Y\\%m\\%d')"
   ]
  },
  {
   "cell_type": "code",
   "execution_count": 3,
   "metadata": {},
   "outputs": [
    {
     "ename": "NameError",
     "evalue": "name 'df' is not defined",
     "output_type": "error",
     "traceback": [
      "\u001b[0;31m---------------------------------------------------------------------------\u001b[0m",
      "\u001b[0;31mNameError\u001b[0m                                 Traceback (most recent call last)",
      "\u001b[0;32m<ipython-input-3-c42a15b2c7cf>\u001b[0m in \u001b[0;36m<module>\u001b[0;34m\u001b[0m\n\u001b[0;32m----> 1\u001b[0;31m \u001b[0mdf\u001b[0m\u001b[0;34m.\u001b[0m\u001b[0mhead\u001b[0m\u001b[0;34m(\u001b[0m\u001b[0;34m)\u001b[0m\u001b[0;34m\u001b[0m\u001b[0m\n\u001b[0m",
      "\u001b[0;31mNameError\u001b[0m: name 'df' is not defined"
     ]
    }
   ],
   "source": [
    "df.head()"
   ]
  },
  {
   "cell_type": "code",
   "execution_count": 19,
   "metadata": {},
   "outputs": [],
   "source": [
    "def explode(df, lst_cols, fill_value=''):\n",
    "    if lst_cols and not isinstance(lst_cols, list):\n",
    "        lst_cols = [lst_cols]\n",
    "    idx_cols = df.columns.difference(lst_cols)\n",
    "    lens = df[lst_cols[0]].str.len()\n",
    "    if (lens > 0).all():\n",
    "        return pd.DataFrame({\n",
    "            col:np.repeat(df[col].values, lens)\n",
    "            for col in idx_cols\n",
    "        }).assign(**{col:np.concatenate(df[col].values) for col in lst_cols}) \\\n",
    "          .loc[:, df.columns]\n",
    "    else:\n",
    "        return pd.DataFrame({\n",
    "            col:np.repeat(df[col].values, lens)\n",
    "            for col in idx_cols\n",
    "        }).assign(**{col:np.concatenate(df[col].values) for col in lst_cols}) \\\n",
    "          .append(df.loc[lens==0, idx_cols]).fillna(fill_value) \\\n",
    "          .loc[:, df.columns]"
   ]
  },
  {
   "cell_type": "code",
   "execution_count": 20,
   "metadata": {},
   "outputs": [
    {
     "name": "stderr",
     "output_type": "stream",
     "text": [
      "/Users/neerajpadarthi/anaconda3/envs/work/lib/python3.5/site-packages/pandas/core/frame.py:6211: FutureWarning: Sorting because non-concatenation axis is not aligned. A future version\n",
      "of pandas will change to not sort by default.\n",
      "\n",
      "To accept the future behavior, pass 'sort=False'.\n",
      "\n",
      "To retain the current behavior and silence the warning, pass 'sort=True'.\n",
      "\n",
      "  sort=sort)\n"
     ]
    }
   ],
   "source": [
    "new_df=explode(df, ['bins'], fill_value='')"
   ]
  },
  {
   "cell_type": "code",
   "execution_count": 2,
   "metadata": {},
   "outputs": [
    {
     "ename": "NameError",
     "evalue": "name 'new_df' is not defined",
     "output_type": "error",
     "traceback": [
      "\u001b[0;31m---------------------------------------------------------------------------\u001b[0m",
      "\u001b[0;31mNameError\u001b[0m                                 Traceback (most recent call last)",
      "\u001b[0;32m<ipython-input-2-46f705856771>\u001b[0m in \u001b[0;36m<module>\u001b[0;34m\u001b[0m\n\u001b[0;32m----> 1\u001b[0;31m \u001b[0mnew_df\u001b[0m\u001b[0;34m.\u001b[0m\u001b[0misnull\u001b[0m\u001b[0;34m(\u001b[0m\u001b[0;34m)\u001b[0m\u001b[0;34m.\u001b[0m\u001b[0msum\u001b[0m\u001b[0;34m(\u001b[0m\u001b[0;34m)\u001b[0m\u001b[0;34m\u001b[0m\u001b[0m\n\u001b[0m",
      "\u001b[0;31mNameError\u001b[0m: name 'new_df' is not defined"
     ]
    }
   ],
   "source": [
    "new_df.isnull().sum()"
   ]
  },
  {
   "cell_type": "code",
   "execution_count": 21,
   "metadata": {},
   "outputs": [],
   "source": [
    "new_df['bins'] = (new_df.start_from_fc + pd.to_timedelta(5*(new_df['bins']), unit='m'))\n",
    "new_df['bins1'] = new_df.bins - pd.to_timedelta(5, unit='m')"
   ]
  },
  {
   "cell_type": "code",
   "execution_count": 1,
   "metadata": {},
   "outputs": [
    {
     "ename": "NameError",
     "evalue": "name 'new_df' is not defined",
     "output_type": "error",
     "traceback": [
      "\u001b[0;31m---------------------------------------------------------------------------\u001b[0m",
      "\u001b[0;31mNameError\u001b[0m                                 Traceback (most recent call last)",
      "\u001b[0;32m<ipython-input-1-dda448f838ff>\u001b[0m in \u001b[0;36m<module>\u001b[0;34m\u001b[0m\n\u001b[0;32m----> 1\u001b[0;31m \u001b[0mnew_df\u001b[0m\u001b[0;34m.\u001b[0m\u001b[0mgroupby\u001b[0m\u001b[0;34m(\u001b[0m\u001b[0;34m[\u001b[0m\u001b[0;34m'bins1'\u001b[0m\u001b[0;34m,\u001b[0m\u001b[0;34m'bins'\u001b[0m\u001b[0;34m]\u001b[0m\u001b[0;34m)\u001b[0m\u001b[0;34m.\u001b[0m\u001b[0mcount\u001b[0m\u001b[0;34m(\u001b[0m\u001b[0;34m)\u001b[0m\u001b[0;34m[\u001b[0m\u001b[0;34m[\u001b[0m\u001b[0;34m'start_from_fc'\u001b[0m\u001b[0;34m]\u001b[0m\u001b[0;34m]\u001b[0m\u001b[0;34m\u001b[0m\u001b[0m\n\u001b[0m",
      "\u001b[0;31mNameError\u001b[0m: name 'new_df' is not defined"
     ]
    }
   ],
   "source": [
    "new_df.groupby(['bins1','bins']).count()[['start_from_fc']]"
   ]
  },
  {
   "cell_type": "code",
   "execution_count": 1,
   "metadata": {},
   "outputs": [
    {
     "ename": "NameError",
     "evalue": "name 'new_df' is not defined",
     "output_type": "error",
     "traceback": [
      "\u001b[0;31m---------------------------------------------------------------------------\u001b[0m",
      "\u001b[0;31mNameError\u001b[0m                                 Traceback (most recent call last)",
      "\u001b[0;32m<ipython-input-1-a3b4f21cf103>\u001b[0m in \u001b[0;36m<module>\u001b[0;34m\u001b[0m\n\u001b[0;32m----> 1\u001b[0;31m \u001b[0mdf_5min\u001b[0m \u001b[0;34m=\u001b[0m \u001b[0mnew_df\u001b[0m\u001b[0;34m.\u001b[0m\u001b[0mgroupby\u001b[0m\u001b[0;34m(\u001b[0m\u001b[0;34m[\u001b[0m\u001b[0;34m'bins1'\u001b[0m\u001b[0;34m,\u001b[0m\u001b[0;34m'bins'\u001b[0m\u001b[0;34m]\u001b[0m\u001b[0;34m)\u001b[0m\u001b[0;34m.\u001b[0m\u001b[0mcount\u001b[0m\u001b[0;34m(\u001b[0m\u001b[0;34m)\u001b[0m\u001b[0;34m[\u001b[0m\u001b[0;34m[\u001b[0m\u001b[0;34m'start_from_fc'\u001b[0m\u001b[0;34m]\u001b[0m\u001b[0;34m]\u001b[0m\u001b[0;34m.\u001b[0m\u001b[0madd_suffix\u001b[0m\u001b[0;34m(\u001b[0m\u001b[0;34m'_Count'\u001b[0m\u001b[0;34m)\u001b[0m\u001b[0;34m.\u001b[0m\u001b[0mreset_index\u001b[0m\u001b[0;34m(\u001b[0m\u001b[0;34m)\u001b[0m\u001b[0;34m\u001b[0m\u001b[0m\n\u001b[0m",
      "\u001b[0;31mNameError\u001b[0m: name 'new_df' is not defined"
     ]
    }
   ],
   "source": [
    "df_5min = new_df.groupby(['bins1','bins']).count()[['start_from_fc']].add_suffix('_Count').reset_index()"
   ]
  },
  {
   "cell_type": "code",
   "execution_count": null,
   "metadata": {},
   "outputs": [],
   "source": [
    "df_5min.rename(columns={'bins1':'start_time','bins':'end_time'\n",
    "                        ,'start_from_fc_Count':'no_of_cars'}\n",
    "               ,inplace=True)"
   ]
  },
  {
   "cell_type": "code",
   "execution_count": null,
   "metadata": {},
   "outputs": [],
   "source": [
    "df_5min.head(50)"
   ]
  },
  {
   "cell_type": "code",
   "execution_count": null,
   "metadata": {},
   "outputs": [],
   "source": [
    "df_all_sensors_1stweek = df_5min.groupby([df_5min.start_time.dt.dayofweek])\\\n",
    ".sum()[['no_of_cars']].add_suffix('_Count').reset_index()"
   ]
  },
  {
   "cell_type": "code",
   "execution_count": null,
   "metadata": {},
   "outputs": [],
   "source": [
    "df_all_sensors_1stweek.set_index('start_time').plot()"
   ]
  },
  {
   "cell_type": "code",
   "execution_count": null,
   "metadata": {},
   "outputs": [],
   "source": [
    "df_all_sensors_1stweek"
   ]
  },
  {
   "cell_type": "code",
   "execution_count": null,
   "metadata": {},
   "outputs": [],
   "source": []
  },
  {
   "cell_type": "code",
   "execution_count": 3,
   "metadata": {},
   "outputs": [],
   "source": [
    "df_5min = pd.read_csv('queen.csv')"
   ]
  },
  {
   "cell_type": "code",
   "execution_count": 5,
   "metadata": {},
   "outputs": [
    {
     "data": {
      "text/plain": [
       "Index(['Unnamed: 0', 'start_time', 'end_time', 'no_of_cars'], dtype='object')"
      ]
     },
     "execution_count": 5,
     "metadata": {},
     "output_type": "execute_result"
    }
   ],
   "source": [
    "df_5min.columns"
   ]
  },
  {
   "cell_type": "code",
   "execution_count": 6,
   "metadata": {},
   "outputs": [],
   "source": [
    "df_5min.drop(columns={'Unnamed: 0'},inplace=True)"
   ]
  },
  {
   "cell_type": "code",
   "execution_count": 58,
   "metadata": {},
   "outputs": [],
   "source": [
    "df_5min = df_5min.loc[df_5min['start_time']<='2017-08-27']"
   ]
  },
  {
   "cell_type": "code",
   "execution_count": 59,
   "metadata": {},
   "outputs": [],
   "source": [
    "df_tst_5min= df_5min[['start_time','no_of_cars']]\n",
    "df_tst_5min = df_tst_5min.set_index('start_time')"
   ]
  },
  {
   "cell_type": "code",
   "execution_count": 60,
   "metadata": {},
   "outputs": [
    {
     "data": {
      "text/plain": [
       "<matplotlib.axes._subplots.AxesSubplot at 0x1c3a1d84a8>"
      ]
     },
     "execution_count": 60,
     "metadata": {},
     "output_type": "execute_result"
    },
    {
     "data": {
      "image/png": "[encoded data removed]",
      "text/plain": [
       "<matplotlib.figure.Figure at 0x1c3a472198>"
      ]
     },
     "metadata": {
      "needs_background": "light"
     },
     "output_type": "display_data"
    }
   ],
   "source": [
    "df_tst_5min.plot(figsize=(15,9))"
   ]
  },
  {
   "cell_type": "code",
   "execution_count": 63,
   "metadata": {},
   "outputs": [
    {
     "data": {
      "text/plain": [
       "<matplotlib.axes._subplots.AxesSubplot at 0x1c3a198908>"
      ]
     },
     "execution_count": 63,
     "metadata": {},
     "output_type": "execute_result"
    },
    {
     "data": {
      "image/png": "[encoded data removed]",
      "text/plain": [
       "<matplotlib.figure.Figure at 0x1c38ea8908>"
      ]
     },
     "metadata": {
      "needs_background": "light"
     },
     "output_type": "display_data"
    }
   ],
   "source": [
    "indexedDataset_logScale = np.log(df_tst_5min)\n",
    "indexedDataset_logScale.plot(figsize=(15,9))"
   ]
  },
  {
   "cell_type": "code",
   "execution_count": 64,
   "metadata": {},
   "outputs": [],
   "source": [
    "def test_stationarity(timeseries):\n",
    "    \n",
    "    movingAverage = timeseries.rolling(window=50).mean()\n",
    "    movingSTD = timeseries.rolling(window=50).std()\n",
    "    \n",
    "    orig = plt.plot(timeseries, color='blue', label='Original')\n",
    "    mean = plt.plot(movingAverage, color='red', label='Rolling Mean')\n",
    "    std = plt.plot(movingSTD, color='black', label='Rolling Std')\n",
    "    plt.legend(loc='best')\n",
    "    plt.title('Rolling Mean & Standard Deviation')\n",
    "    plt.show(block=False)\n",
    "    \n",
    "    print('Results of Dickey Fuller Test:')\n",
    "    dftest = adfuller(timeseries['no_of_cars'], autolag='AIC')\n",
    "    dfoutput = pd.Series(dftest[0:4], index=['Test Statistic','p-value','#Lags Used','Number of Observations Used'])\n",
    "    for key,value in dftest[4].items():\n",
    "        dfoutput['Critical Value (%s)'%key] = value\n",
    "    print(dfoutput)"
   ]
  },
  {
   "cell_type": "code",
   "execution_count": 11,
   "metadata": {},
   "outputs": [
    {
     "data": {
      "image/png": "[encoded data removed]",
      "text/plain": [
       "<matplotlib.figure.Figure at 0x1c23d6e208>"
      ]
     },
     "metadata": {
      "needs_background": "light"
     },
     "output_type": "display_data"
    },
    {
     "name": "stdout",
     "output_type": "stream",
     "text": [
      "Results of Dickey Fuller Test:\n",
      "Test Statistic                   -3.813711\n",
      "p-value                           0.002770\n",
      "#Lags Used                       19.000000\n",
      "Number of Observations Used    8617.000000\n",
      "Critical Value (10%)             -2.566949\n",
      "Critical Value (1%)              -3.431109\n",
      "Critical Value (5%)              -2.861875\n",
      "dtype: float64\n"
     ]
    }
   ],
   "source": [
    "test_stationarity(indexedDataset_logScale)"
   ]
  },
  {
   "cell_type": "code",
   "execution_count": 65,
   "metadata": {},
   "outputs": [
    {
     "data": {
      "image/png": "[encoded data removed]",
      "text/plain": [
       "<matplotlib.figure.Figure at 0x1c38eb8b00>"
      ]
     },
     "execution_count": 65,
     "metadata": {},
     "output_type": "execute_result"
    },
    {
     "data": {
      "image/png": "[encoded data removed]",
      "text/plain": [
       "<matplotlib.figure.Figure at 0x1c38eb8b00>"
      ]
     },
     "metadata": {
      "needs_background": "light"
     },
     "output_type": "display_data"
    }
   ],
   "source": [
    "from statsmodels.graphics.tsaplots import plot_acf\n",
    "fig=plt.figure(figsize=(13,8))\n",
    "ax1=fig.add_subplot(211)\n",
    "plot_acf(indexedDataset_logScale,lags=50,ax=ax1)"
   ]
  },
  {
   "cell_type": "code",
   "execution_count": 66,
   "metadata": {},
   "outputs": [
    {
     "data": {
      "image/png": "[encoded data removed]",
      "text/plain": [
       "<matplotlib.figure.Figure at 0x1c38cf2ba8>"
      ]
     },
     "execution_count": 66,
     "metadata": {},
     "output_type": "execute_result"
    },
    {
     "data": {
      "image/png": "[encoded data removed]",
      "text/plain": [
       "<matplotlib.figure.Figure at 0x1c38cf2ba8>"
      ]
     },
     "metadata": {
      "needs_background": "light"
     },
     "output_type": "display_data"
    }
   ],
   "source": [
    "from statsmodels.graphics.tsaplots import plot_pacf\n",
    "fig=plt.figure(figsize=(13,8))\n",
    "ax1=fig.add_subplot(211)\n",
    "plot_pacf(indexedDataset_logScale,lags=50,ax=ax1)"
   ]
  },
  {
   "cell_type": "code",
   "execution_count": 18,
   "metadata": {},
   "outputs": [
    {
     "name": "stderr",
     "output_type": "stream",
     "text": [
      "/Users/neerajpadarthi/anaconda3/envs/work/lib/python3.5/site-packages/statsmodels/tsa/base/tsa_model.py:171: ValueWarning: No frequency information was provided, so inferred frequency 5T will be used.\n",
      "  % freq, ValueWarning)\n"
     ]
    },
    {
     "name": "stdout",
     "output_type": "stream",
     "text": [
      "Plotting AR model\n"
     ]
    },
    {
     "data": {
      "image/png": "[encoded data removed]",
      "text/plain": [
       "<matplotlib.figure.Figure at 0x1c255e5278>"
      ]
     },
     "metadata": {
      "needs_background": "light"
     },
     "output_type": "display_data"
    }
   ],
   "source": [
    "model = ARIMA(indexedDataset_logScale, order=(4,0,0))\n",
    "results_AR = model.fit(disp=-1)\n",
    "plt.plot(indexedDataset_logScale, color='green',label='Actual Values')\n",
    "plt.plot(results_AR.fittedvalues, color='red', label='Predicted Values')\n",
    "plt.legend(loc='best')\n",
    "plt.title('RSS: %.4f'%sum((results_AR.fittedvalues - indexedDataset_logScale['no_of_cars'])**2))\n",
    "print('Plotting AR model')"
   ]
  },
  {
   "cell_type": "code",
   "execution_count": 28,
   "metadata": {},
   "outputs": [
    {
     "ename": "ImportError",
     "evalue": "No module named 'pmdarima'",
     "output_type": "error",
     "traceback": [
      "\u001b[0;31m---------------------------------------------------------------------------\u001b[0m",
      "\u001b[0;31mImportError\u001b[0m                               Traceback (most recent call last)",
      "\u001b[0;32m<ipython-input-28-6858fadc5169>\u001b[0m in \u001b[0;36m<module>\u001b[0;34m\u001b[0m\n\u001b[0;32m----> 1\u001b[0;31m \u001b[0;32mfrom\u001b[0m \u001b[0mpmdarima\u001b[0m\u001b[0;34m.\u001b[0m\u001b[0marima\u001b[0m \u001b[0;32mimport\u001b[0m \u001b[0mauto_arima\u001b[0m\u001b[0;34m\u001b[0m\u001b[0m\n\u001b[0m",
      "\u001b[0;31mImportError\u001b[0m: No module named 'pmdarima'"
     ]
    }
   ],
   "source": [
    "from pmdarima.arima import auto_arima"
   ]
  },
  {
   "cell_type": "code",
   "execution_count": 29,
   "metadata": {},
   "outputs": [
    {
     "ename": "NameError",
     "evalue": "name 'auto_arima' is not defined",
     "output_type": "error",
     "traceback": [
      "\u001b[0;31m---------------------------------------------------------------------------\u001b[0m",
      "\u001b[0;31mNameError\u001b[0m                                 Traceback (most recent call last)",
      "\u001b[0;32m<ipython-input-29-6f391c1211fc>\u001b[0m in \u001b[0;36m<module>\u001b[0;34m\u001b[0m\n\u001b[0;32m----> 1\u001b[0;31m stepwise_model = auto_arima(df_tst_5min, start_p=3, start_q=2,\n\u001b[0m\u001b[1;32m      2\u001b[0m                            \u001b[0mmax_p\u001b[0m\u001b[0;34m=\u001b[0m\u001b[0;36m7\u001b[0m\u001b[0;34m,\u001b[0m \u001b[0mmax_q\u001b[0m\u001b[0;34m=\u001b[0m\u001b[0;36m7\u001b[0m\u001b[0;34m,\u001b[0m \u001b[0mm\u001b[0m\u001b[0;34m=\u001b[0m\u001b[0;36m1\u001b[0m\u001b[0;34m,\u001b[0m\u001b[0;34m\u001b[0m\u001b[0m\n\u001b[1;32m      3\u001b[0m                            \u001b[0mstart_P\u001b[0m\u001b[0;34m=\u001b[0m\u001b[0;36m0\u001b[0m\u001b[0;34m,\u001b[0m \u001b[0mseasonal\u001b[0m\u001b[0;34m=\u001b[0m\u001b[0;32mFalse\u001b[0m\u001b[0;34m,\u001b[0m\u001b[0;34m\u001b[0m\u001b[0m\n\u001b[1;32m      4\u001b[0m                            \u001b[0md\u001b[0m\u001b[0;34m=\u001b[0m\u001b[0;36m1\u001b[0m\u001b[0;34m,\u001b[0m \u001b[0mD\u001b[0m\u001b[0;34m=\u001b[0m\u001b[0;36m1\u001b[0m\u001b[0;34m,\u001b[0m \u001b[0mtrace\u001b[0m\u001b[0;34m=\u001b[0m\u001b[0;32mTrue\u001b[0m\u001b[0;34m,\u001b[0m\u001b[0;34m\u001b[0m\u001b[0m\n\u001b[1;32m      5\u001b[0m                            \u001b[0merror_action\u001b[0m\u001b[0;34m=\u001b[0m\u001b[0;34m'ignore'\u001b[0m\u001b[0;34m,\u001b[0m\u001b[0;34m\u001b[0m\u001b[0m\n",
      "\u001b[0;31mNameError\u001b[0m: name 'auto_arima' is not defined"
     ]
    }
   ],
   "source": [
    "stepwise_model = auto_arima(df_tst_5min, start_p=3, start_q=2,\n",
    "                           max_p=7, max_q=7, m=1,\n",
    "                           start_P=0, seasonal=False,\n",
    "                           d=1, D=1, trace=True,\n",
    "                           error_action='ignore',  \n",
    "                           suppress_warnings=True, \n",
    "                           stepwise=True)\n",
    "print(stepwise_model.aic())"
   ]
  },
  {
   "cell_type": "code",
   "execution_count": 68,
   "metadata": {},
   "outputs": [
    {
     "name": "stdout",
     "output_type": "stream",
     "text": [
      "(4940, 1)\n",
      "(2545, 1)\n"
     ]
    }
   ],
   "source": [
    "X = indexedDataset_logScale.values\n",
    "X1= df_tst_5min.values\n",
    "size = int(len(X) * 0.66)\n",
    "train, test = X[0:size], X[size:len(X)]\n",
    "size1 = int(len(X1) * 0.66)\n",
    "train1, test1 = X1[0:size1], X1[size1:len(X1)]\n",
    "print(train.shape)\n",
    "print(test.shape)"
   ]
  },
  {
   "cell_type": "code",
   "execution_count": null,
   "metadata": {},
   "outputs": [
    {
     "name": "stderr",
     "output_type": "stream",
     "text": [
      "/Users/neerajpadarthi/anaconda3/envs/work/lib/python3.5/site-packages/scipy/signal/signaltools.py:1341: FutureWarning: Using a non-tuple sequence for multidimensional indexing is deprecated; use `arr[tuple(seq)]` instead of `arr[seq]`. In the future this will be interpreted as an array index, `arr[np.array(seq)]`, which will result either in an error or a different result.\n",
      "  out_full[ind] += zi\n",
      "/Users/neerajpadarthi/anaconda3/envs/work/lib/python3.5/site-packages/scipy/signal/signaltools.py:1344: FutureWarning: Using a non-tuple sequence for multidimensional indexing is deprecated; use `arr[tuple(seq)]` instead of `arr[seq]`. In the future this will be interpreted as an array index, `arr[np.array(seq)]`, which will result either in an error or a different result.\n",
      "  out = out_full[ind]\n",
      "/Users/neerajpadarthi/anaconda3/envs/work/lib/python3.5/site-packages/scipy/signal/signaltools.py:1350: FutureWarning: Using a non-tuple sequence for multidimensional indexing is deprecated; use `arr[tuple(seq)]` instead of `arr[seq]`. In the future this will be interpreted as an array index, `arr[np.array(seq)]`, which will result either in an error or a different result.\n",
      "  zf = out_full[ind]\n",
      "/Users/neerajpadarthi/anaconda3/envs/work/lib/python3.5/site-packages/statsmodels/base/model.py:508: ConvergenceWarning: Maximum Likelihood optimization failed to converge. Check mle_retvals\n",
      "  \"Check mle_retvals\", ConvergenceWarning)\n"
     ]
    }
   ],
   "source": [
    "history = [x for x in train1]\n",
    "predictions = list()\n",
    "for t in range(len(test1)):\n",
    "\tmodel =  ARIMA(history, order=(4,1,0))\n",
    "\tmodel_fit = model.fit(disp=0)\n",
    "\toutput = model_fit.forecast()\n",
    "\tyhat = output[0]\n",
    "\tpredictions.append(yhat)\n",
    "\tobs = test1[t]\n",
    "\thistory.append(obs)\n",
    "# \tprint('predicted=%f, expected=%f' % (yhat, obs))\n",
    "error = (mean_squared_error(test1, predictions))\n",
    "print('Test MSE: %.3f' % error)\n",
    "# plot\n",
    "plt.plot(test1, color='green',label='Actual Values')\n",
    "plt.plot(predictions, color='red', label='Predicted Values',alpha=0.6)\n",
    "plt.legend(loc='best')\n",
    "plt.title('Actual vs Predicted Values')\n",
    "plt.show(block=False)"
   ]
  },
  {
   "cell_type": "code",
   "execution_count": 73,
   "metadata": {},
   "outputs": [
    {
     "name": "stdout",
     "output_type": "stream",
     "text": [
      "10846.479439183786\n"
     ]
    },
    {
     "data": {
      "text/plain": [
       "[]"
      ]
     },
     "execution_count": 73,
     "metadata": {},
     "output_type": "execute_result"
    },
    {
     "data": {
      "image/png": "[encoded data removed]",
      "text/plain": [
       "<matplotlib.figure.Figure at 0x1c388a6668>"
      ]
     },
     "metadata": {
      "needs_background": "light"
     },
     "output_type": "display_data"
    }
   ],
   "source": [
    "n = sm.tsa.SARIMAX(test1, order=(4,1,1), seasonal_order=(0,0,0,1)).fit(disp=False)\n",
    "print(n.aic)\n",
    "j = n.predict(0,2570)\n",
    "plt.plot(test1)\n",
    "plt.plot(j)\n",
    "plt.plot(figsize=(25,12))"
   ]
  },
  {
   "cell_type": "code",
   "execution_count": 42,
   "metadata": {},
   "outputs": [
    {
     "data": {
      "text/html": [
       "<div>\n",
       "<style scoped>\n",
       "    .dataframe tbody tr th:only-of-type {\n",
       "        vertical-align: middle;\n",
       "    }\n",
       "\n",
       "    .dataframe tbody tr th {\n",
       "        vertical-align: top;\n",
       "    }\n",
       "\n",
       "    .dataframe thead th {\n",
       "        text-align: right;\n",
       "    }\n",
       "</style>\n",
       "<table border=\"1\" class=\"dataframe\">\n",
       "  <thead>\n",
       "    <tr style=\"text-align: right;\">\n",
       "      <th></th>\n",
       "      <th>no_of_cars</th>\n",
       "    </tr>\n",
       "    <tr>\n",
       "      <th>start_time</th>\n",
       "      <th></th>\n",
       "    </tr>\n",
       "  </thead>\n",
       "  <tbody>\n",
       "    <tr>\n",
       "      <th>2017-08-01 00:15:00</th>\n",
       "      <td>3</td>\n",
       "    </tr>\n",
       "    <tr>\n",
       "      <th>2017-08-01 00:20:00</th>\n",
       "      <td>3</td>\n",
       "    </tr>\n",
       "    <tr>\n",
       "      <th>2017-08-01 00:25:00</th>\n",
       "      <td>3</td>\n",
       "    </tr>\n",
       "    <tr>\n",
       "      <th>2017-08-01 00:30:00</th>\n",
       "      <td>7</td>\n",
       "    </tr>\n",
       "    <tr>\n",
       "      <th>2017-08-01 00:35:00</th>\n",
       "      <td>7</td>\n",
       "    </tr>\n",
       "  </tbody>\n",
       "</table>\n",
       "</div>"
      ],
      "text/plain": [
       "                     no_of_cars\n",
       "start_time                     \n",
       "2017-08-01 00:15:00           3\n",
       "2017-08-01 00:20:00           3\n",
       "2017-08-01 00:25:00           3\n",
       "2017-08-01 00:30:00           7\n",
       "2017-08-01 00:35:00           7"
      ]
     },
     "execution_count": 42,
     "metadata": {},
     "output_type": "execute_result"
    }
   ],
   "source": [
    "df_tst_5min.head()"
   ]
  },
  {
   "cell_type": "code",
   "execution_count": null,
   "metadata": {},
   "outputs": [],
   "source": []
  }
 ],
 "metadata": {
  "kernelspec": {
   "display_name": "Python 3",
   "language": "python",
   "name": "python3"
  },
  "language_info": {
   "codemirror_mode": {
    "name": "ipython",
    "version": 3
   },
   "file_extension": ".py",
   "mimetype": "text/x-python",
   "name": "python",
   "nbconvert_exporter": "python",
   "pygments_lexer": "ipython3",
   "version": "3.5.0"
  }
 },
 "nbformat": 4,
 "nbformat_minor": 2
}
