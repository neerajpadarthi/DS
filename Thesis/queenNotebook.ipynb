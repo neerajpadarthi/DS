{
 "cells": [
  {
   "cell_type": "code",
   "execution_count": 2,
   "metadata": {},
   "outputs": [],
   "source": [
    "import pandas as pd\n",
    "import numpy as np\n",
    "import matplotlib.pyplot as plt\n",
    "from matplotlib.pylab import rcParams\n",
    "rcParams['figure.figsize'] =15,9"
   ]
  },
  {
   "cell_type": "code",
   "execution_count": 3,
   "metadata": {},
   "outputs": [],
   "source": [
    "df = pd.read_csv('Queens_1Year_Raw.csv')"
   ]
  },
  {
   "cell_type": "code",
   "execution_count": 5,
   "metadata": {},
   "outputs": [
    {
     "data": {
      "text/html": [
       "<div>\n",
       "<style scoped>\n",
       "    .dataframe tbody tr th:only-of-type {\n",
       "        vertical-align: middle;\n",
       "    }\n",
       "\n",
       "    .dataframe tbody tr th {\n",
       "        vertical-align: top;\n",
       "    }\n",
       "\n",
       "    .dataframe thead th {\n",
       "        text-align: right;\n",
       "    }\n",
       "</style>\n",
       "<table border=\"1\" class=\"dataframe\">\n",
       "  <thead>\n",
       "    <tr style=\"text-align: right;\">\n",
       "      <th></th>\n",
       "      <th>ArrivalTime</th>\n",
       "      <th>DepartureTime</th>\n",
       "    </tr>\n",
       "  </thead>\n",
       "  <tbody>\n",
       "    <tr>\n",
       "      <th>783902</th>\n",
       "      <td>12/31/17 23:15</td>\n",
       "      <td>1/1/18 0:00</td>\n",
       "    </tr>\n",
       "    <tr>\n",
       "      <th>783903</th>\n",
       "      <td>12/31/17 23:45</td>\n",
       "      <td>1/1/18 0:00</td>\n",
       "    </tr>\n",
       "    <tr>\n",
       "      <th>783904</th>\n",
       "      <td>12/31/17 23:51</td>\n",
       "      <td>1/1/18 0:00</td>\n",
       "    </tr>\n",
       "    <tr>\n",
       "      <th>783905</th>\n",
       "      <td>12/31/17 23:54</td>\n",
       "      <td>1/1/18 0:00</td>\n",
       "    </tr>\n",
       "    <tr>\n",
       "      <th>783906</th>\n",
       "      <td>12/31/17 23:58</td>\n",
       "      <td>1/1/18 0:00</td>\n",
       "    </tr>\n",
       "  </tbody>\n",
       "</table>\n",
       "</div>"
      ],
      "text/plain": [
       "           ArrivalTime DepartureTime\n",
       "783902  12/31/17 23:15   1/1/18 0:00\n",
       "783903  12/31/17 23:45   1/1/18 0:00\n",
       "783904  12/31/17 23:51   1/1/18 0:00\n",
       "783905  12/31/17 23:54   1/1/18 0:00\n",
       "783906  12/31/17 23:58   1/1/18 0:00"
      ]
     },
     "execution_count": 5,
     "metadata": {},
     "output_type": "execute_result"
    }
   ],
   "source": [
    "df.tail()"
   ]
  },
  {
   "cell_type": "code",
   "execution_count": 6,
   "metadata": {},
   "outputs": [],
   "source": [
    "df['start_time'] = pd.to_datetime(df.ArrivalTime).astype('datetime64[s]')\n",
    "df['end_time'] = pd.to_datetime(df.DepartureTime).astype('datetime64[s]')\n",
    "df['start_from_fc']= df.start_time.dt.floor('5min')\n",
    "df['end_from_fc'] = df.end_time.dt.ceil('5min')"
   ]
  },
  {
   "cell_type": "code",
   "execution_count": null,
   "metadata": {},
   "outputs": [],
   "source": []
  }
 ],
 "metadata": {
  "kernelspec": {
   "display_name": "Python 3",
   "language": "python",
   "name": "python3"
  },
  "language_info": {
   "codemirror_mode": {
    "name": "ipython",
    "version": 3
   },
   "file_extension": ".py",
   "mimetype": "text/x-python",
   "name": "python",
   "nbconvert_exporter": "python",
   "pygments_lexer": "ipython3",
   "version": "3.5.0"
  }
 },
 "nbformat": 4,
 "nbformat_minor": 2
}
